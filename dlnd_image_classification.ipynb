{
 "cells": [
  {
   "cell_type": "markdown",
   "metadata": {
    "collapsed": true,
    "deletable": true,
    "editable": true
   },
   "source": [
    "# Image Classification\n",
    "In this project, you'll classify images from the [CIFAR-10 dataset](https://www.cs.toronto.edu/~kriz/cifar.html).  The dataset consists of airplanes, dogs, cats, and other objects. You'll preprocess the images, then train a convolutional neural network on all the samples. The images need to be normalized and the labels need to be one-hot encoded.  You'll get to apply what you learned and build a convolutional, max pooling, dropout, and fully connected layers.  At the end, you'll get to see your neural network's predictions on the sample images.\n",
    "## Get the Data\n",
    "Run the following cell to download the [CIFAR-10 dataset for python](https://www.cs.toronto.edu/~kriz/cifar-10-python.tar.gz)."
   ]
  },
  {
   "cell_type": "code",
   "execution_count": 1,
   "metadata": {
    "collapsed": false,
    "deletable": true,
    "editable": true
   },
   "outputs": [
    {
     "name": "stderr",
     "output_type": "stream",
     "text": [
      "CIFAR-10 Dataset: 171MB [00:29, 5.79MB/s]                              \n"
     ]
    },
    {
     "name": "stdout",
     "output_type": "stream",
     "text": [
      "All files found!\n"
     ]
    }
   ],
   "source": [
    "\"\"\"\n",
    "DON'T MODIFY ANYTHING IN THIS CELL THAT IS BELOW THIS LINE\n",
    "\"\"\"\n",
    "from urllib.request import urlretrieve\n",
    "from os.path import isfile, isdir\n",
    "from tqdm import tqdm\n",
    "import problem_unittests as tests\n",
    "import tarfile\n",
    "\n",
    "cifar10_dataset_folder_path = 'cifar-10-batches-py'\n",
    "\n",
    "class DLProgress(tqdm):\n",
    "    last_block = 0\n",
    "\n",
    "    def hook(self, block_num=1, block_size=1, total_size=None):\n",
    "        self.total = total_size\n",
    "        self.update((block_num - self.last_block) * block_size)\n",
    "        self.last_block = block_num\n",
    "\n",
    "if not isfile('cifar-10-python.tar.gz'):\n",
    "    with DLProgress(unit='B', unit_scale=True, miniters=1, desc='CIFAR-10 Dataset') as pbar:\n",
    "        urlretrieve(\n",
    "            'https://www.cs.toronto.edu/~kriz/cifar-10-python.tar.gz',\n",
    "            'cifar-10-python.tar.gz',\n",
    "            pbar.hook)\n",
    "\n",
    "if not isdir(cifar10_dataset_folder_path):\n",
    "    with tarfile.open('cifar-10-python.tar.gz') as tar:\n",
    "        tar.extractall()\n",
    "        tar.close()\n",
    "\n",
    "\n",
    "tests.test_folder_path(cifar10_dataset_folder_path)"
   ]
  },
  {
   "cell_type": "markdown",
   "metadata": {
    "deletable": true,
    "editable": true
   },
   "source": [
    "## Explore the Data\n",
    "The dataset is broken into batches to prevent your machine from running out of memory.  The CIFAR-10 dataset consists of 5 batches, named `data_batch_1`, `data_batch_2`, etc.. Each batch contains the labels and images that are one of the following:\n",
    "* airplane\n",
    "* automobile\n",
    "* bird\n",
    "* cat\n",
    "* deer\n",
    "* dog\n",
    "* frog\n",
    "* horse\n",
    "* ship\n",
    "* truck\n",
    "\n",
    "Understanding a dataset is part of making predictions on the data.  Play around with the code cell below by changing the `batch_id` and `sample_id`. The `batch_id` is the id for a batch (1-5). The `sample_id` is the id for a image and label pair in the batch.\n",
    "\n",
    "Ask yourself \"What are all possible labels?\", \"What is the range of values for the image data?\", \"Are the labels in order or random?\".  Answers to questions like these will help you preprocess the data and end up with better predictions."
   ]
  },
  {
   "cell_type": "code",
   "execution_count": 3,
   "metadata": {
    "collapsed": false,
    "deletable": true,
    "editable": true
   },
   "outputs": [
    {
     "name": "stdout",
     "output_type": "stream",
     "text": [
      "\n",
      "Stats of batch 4:\n",
      "Samples: 10000\n",
      "Label Counts: {0: 1003, 1: 963, 2: 1041, 3: 976, 4: 1004, 5: 1021, 6: 1004, 7: 981, 8: 1024, 9: 983}\n",
      "First 20 Labels: [0, 6, 0, 2, 7, 2, 1, 2, 4, 1, 5, 6, 6, 3, 1, 3, 5, 5, 8, 1]\n",
      "\n",
      "Example of Image 44:\n",
      "Image - Min Value: 4 Max Value: 245\n",
      "Image - Shape: (32, 32, 3)\n",
      "Label - Label Id: 4 Name: deer\n"
     ]
    },
    {
     "data": {
      "image/png": "[encoded data removed]",
      "text/plain": [
       "<matplotlib.figure.Figure at 0x7fead80a7198>"
      ]
     },
     "metadata": {
      "image/png": {
       "height": 250,
       "width": 253
      }
     },
     "output_type": "display_data"
    }
   ],
   "source": [
    "%matplotlib inline\n",
    "%config InlineBackend.figure_format = 'retina'\n",
    "\n",
    "import helper\n",
    "import numpy as np\n",
    "\n",
    "# Explore the dataset\n",
    "batch_id = 4\n",
    "sample_id = 44\n",
    "helper.display_stats(cifar10_dataset_folder_path, batch_id, sample_id)"
   ]
  },
  {
   "cell_type": "markdown",
   "metadata": {
    "deletable": true,
    "editable": true
   },
   "source": [
    "## Implement Preprocess Functions\n",
    "### Normalize\n",
    "In the cell below, implement the `normalize` function to take in image data, `x`, and return it as a normalized Numpy array. The values should be in the range of 0 to 1, inclusive.  The return object should be the same shape as `x`."
   ]
  },
  {
   "cell_type": "code",
   "execution_count": 4,
   "metadata": {
    "collapsed": false,
    "deletable": true,
    "editable": true
   },
   "outputs": [
    {
     "name": "stdout",
     "output_type": "stream",
     "text": [
      "Tests Passed\n"
     ]
    }
   ],
   "source": [
    "def normalize(x):\n",
    "    \"\"\"\n",
    "    Normalize a list of sample image data in the range of 0 to 1\n",
    "    : x: List of image data.  The image shape is (32, 32, 3)\n",
    "    : return: Numpy array of normalize data\n",
    "    \"\"\"\n",
    "    # TODO: Implement Function\n",
    "    x = x*(1/x.max())\n",
    "    \n",
    "    \n",
    "    return x\n",
    "\n",
    "\n",
    "\"\"\"\n",
    "DON'T MODIFY ANYTHING IN THIS CELL THAT IS BELOW THIS LINE\n",
    "\"\"\"\n",
    "tests.test_normalize(normalize)"
   ]
  },
  {
   "cell_type": "markdown",
   "metadata": {
    "deletable": true,
    "editable": true
   },
   "source": [
    "### One-hot encode\n",
    "Just like the previous code cell, you'll be implementing a function for preprocessing.  This time, you'll implement the `one_hot_encode` function. The input, `x`, are a list of labels.  Implement the function to return the list of labels as One-Hot encoded Numpy array.  The possible values for labels are 0 to 9. The one-hot encoding function should return the same encoding for each value between each call to `one_hot_encode`.  Make sure to save the map of encodings outside the function.\n",
    "\n",
    "Hint: Don't reinvent the wheel."
   ]
  },
  {
   "cell_type": "code",
   "execution_count": 5,
   "metadata": {
    "collapsed": false,
    "deletable": true,
    "editable": true
   },
   "outputs": [
    {
     "name": "stdout",
     "output_type": "stream",
     "text": [
      "Tests Passed\n"
     ]
    }
   ],
   "source": [
    "\n",
    "from sklearn import preprocessing\n",
    "lb = preprocessing.LabelBinarizer()\n",
    "labels = [0,1,2,3,4,5,6,7,8,9]\n",
    "lb.fit(labels)\n",
    "\n",
    "\n",
    "\n",
    "def one_hot_encode(x):\n",
    "    \"\"\"\n",
    "    One hot encode a list of sample labels. Return a one-hot encoded vector for each label.\n",
    "    : x: List of sample Labels\n",
    "    : return: Numpy array of one-hot encoded labels\n",
    "    \"\"\"\n",
    "    # TODO: Implement Function\n",
    "\n",
    "    one_hot = lb.transform(x)\n",
    "    return one_hot \n",
    "\n",
    "\n",
    "\n",
    "\n",
    "\"\"\"\n",
    "DON'T MODIFY ANYTHING IN THIS CELL THAT IS BELOW THIS LINE\n",
    "\"\"\"\n",
    "tests.test_one_hot_encode(one_hot_encode)"
   ]
  },
  {
   "cell_type": "markdown",
   "metadata": {
    "deletable": true,
    "editable": true
   },
   "source": [
    "### Randomize Data\n",
    "As you saw from exploring the data above, the order of the samples are randomized.  It doesn't hurt to randomize it again, but you don't need to for this dataset."
   ]
  },
  {
   "cell_type": "markdown",
   "metadata": {
    "deletable": true,
    "editable": true
   },
   "source": [
    "## Preprocess all the data and save it\n",
    "Running the code cell below will preprocess all the CIFAR-10 data and save it to file. The code below also uses 10% of the training data for validation."
   ]
  },
  {
   "cell_type": "code",
   "execution_count": 6,
   "metadata": {
    "collapsed": false,
    "deletable": true,
    "editable": true
   },
   "outputs": [],
   "source": [
    "\"\"\"\n",
    "DON'T MODIFY ANYTHING IN THIS CELL\n",
    "\"\"\"\n",
    "# Preprocess Training, Validation, and Testing Data\n",
    "helper.preprocess_and_save_data(cifar10_dataset_folder_path, normalize, one_hot_encode)"
   ]
  },
  {
   "cell_type": "markdown",
   "metadata": {
    "deletable": true,
    "editable": true
   },
   "source": [
    "# Check Point\n",
    "This is your first checkpoint.  If you ever decide to come back to this notebook or have to restart the notebook, you can start from here.  The preprocessed data has been saved to disk."
   ]
  },
  {
   "cell_type": "code",
   "execution_count": 7,
   "metadata": {
    "collapsed": true,
    "deletable": true,
    "editable": true
   },
   "outputs": [],
   "source": [
    "\"\"\"\n",
    "DON'T MODIFY ANYTHING IN THIS CELL\n",
    "\"\"\"\n",
    "import pickle\n",
    "import problem_unittests as tests\n",
    "import helper\n",
    "\n",
    "# Load the Preprocessed Validation data\n",
    "valid_features, valid_labels = pickle.load(open('preprocess_validation.p', mode='rb'))"
   ]
  },
  {
   "cell_type": "markdown",
   "metadata": {
    "deletable": true,
    "editable": true
   },
   "source": [
    "## Build the network\n",
    "For the neural network, you'll build each layer into a function.  Most of the code you've seen has been outside of functions. To test your code more thoroughly, we require that you put each layer in a function.  This allows us to give you better feedback and test for simple mistakes using our unittests before you submit your project.\n",
    "\n",
    ">**Note:** If you're finding it hard to dedicate enough time for this course each week, we've provided a small shortcut to this part of the project. In the next couple of problems, you'll have the option to use classes from the [TensorFlow Layers](https://www.tensorflow.org/api_docs/python/tf/layers) or [TensorFlow Layers (contrib)](https://www.tensorflow.org/api_guides/python/contrib.layers) packages to build each layer, except the layers you build in the \"Convolutional and Max Pooling Layer\" section.  TF Layers is similar to Keras's and TFLearn's abstraction to layers, so it's easy to pickup.\n",
    "\n",
    ">However, if you would like to get the most out of this course, try to solve all the problems _without_ using anything from the TF Layers packages. You **can** still use classes from other packages that happen to have the same name as ones you find in TF Layers! For example, instead of using the TF Layers version of the `conv2d` class, [tf.layers.conv2d](https://www.tensorflow.org/api_docs/python/tf/layers/conv2d), you would want to use the TF Neural Network version of `conv2d`, [tf.nn.conv2d](https://www.tensorflow.org/api_docs/python/tf/nn/conv2d). \n",
    "\n",
    "Let's begin!\n",
    "\n",
    "### Input\n",
    "The neural network needs to read the image data, one-hot encoded labels, and dropout keep probability. Implement the following functions\n",
    "* Implement `neural_net_image_input`\n",
    " * Return a [TF Placeholder](https://www.tensorflow.org/api_docs/python/tf/placeholder)\n",
    " * Set the shape using `image_shape` with batch size set to `None`.\n",
    " * Name the TensorFlow placeholder \"x\" using the TensorFlow `name` parameter in the [TF Placeholder](https://www.tensorflow.org/api_docs/python/tf/placeholder).\n",
    "* Implement `neural_net_label_input`\n",
    " * Return a [TF Placeholder](https://www.tensorflow.org/api_docs/python/tf/placeholder)\n",
    " * Set the shape using `n_classes` with batch size set to `None`.\n",
    " * Name the TensorFlow placeholder \"y\" using the TensorFlow `name` parameter in the [TF Placeholder](https://www.tensorflow.org/api_docs/python/tf/placeholder).\n",
    "* Implement `neural_net_keep_prob_input`\n",
    " * Return a [TF Placeholder](https://www.tensorflow.org/api_docs/python/tf/placeholder) for dropout keep probability.\n",
    " * Name the TensorFlow placeholder \"keep_prob\" using the TensorFlow `name` parameter in the [TF Placeholder](https://www.tensorflow.org/api_docs/python/tf/placeholder).\n",
    "\n",
    "These names will be used at the end of the project to load your saved model.\n",
    "\n",
    "Note: `None` for shapes in TensorFlow allow for a dynamic size."
   ]
  },
  {
   "cell_type": "code",
   "execution_count": 8,
   "metadata": {
    "collapsed": false,
    "deletable": true,
    "editable": true
   },
   "outputs": [
    {
     "name": "stdout",
     "output_type": "stream",
     "text": [
      "Image Input Tests Passed.\n",
      "Label Input Tests Passed.\n",
      "Keep Prob Tests Passed.\n"
     ]
    }
   ],
   "source": [
    "import tensorflow as tf\n",
    "\n",
    "def neural_net_image_input(image_shape):\n",
    "    \"\"\"\n",
    "    Return a Tensor for a bach of image input\n",
    "    : image_shape: Shape of the images\n",
    "    : return: Tensor for image input.\n",
    "    \"\"\"\n",
    "    # TODO: Implement Function\n",
    "    tf_image = tf.placeholder(tf.float32, [None, 32, 32, 3], name = 'x')\n",
    "    return tf_image\n",
    "\n",
    "\n",
    "def neural_net_label_input(n_classes):\n",
    "    \"\"\"\n",
    "    Return a Tensor for a batch of label input\n",
    "    : n_classes: Number of classes\n",
    "    : return: Tensor for label input.\n",
    "    \"\"\"\n",
    "    # TODO: Implement Function\n",
    "    tf_labels = tf.placeholder(tf.float32, [None, n_classes], name = 'y')\n",
    "    return tf_labels\n",
    "\n",
    "\n",
    "def neural_net_keep_prob_input():\n",
    "    \"\"\"\n",
    "    Return a Tensor for keep probability\n",
    "    : return: Tensor for keep probability.\n",
    "    \"\"\"\n",
    "    # TODO: Implement Function\n",
    "    dropout = tf.placeholder(tf.float32,  name = 'keep_prob')\n",
    "    return dropout\n",
    "\n",
    "\n",
    "\"\"\"\n",
    "DON'T MODIFY ANYTHING IN THIS CELL THAT IS BELOW THIS LINE\n",
    "\"\"\"\n",
    "tf.reset_default_graph()\n",
    "tests.test_nn_image_inputs(neural_net_image_input)\n",
    "tests.test_nn_label_inputs(neural_net_label_input)\n",
    "tests.test_nn_keep_prob_inputs(neural_net_keep_prob_input)"
   ]
  },
  {
   "cell_type": "markdown",
   "metadata": {
    "deletable": true,
    "editable": true
   },
   "source": [
    "### Convolution and Max Pooling Layer\n",
    "Convolution layers have a lot of success with images. For this code cell, you should implement the function `conv2d_maxpool` to apply convolution then max pooling:\n",
    "* Create the weight and bias using `conv_ksize`, `conv_num_outputs` and the shape of `x_tensor`.\n",
    "* Apply a convolution to `x_tensor` using weight and `conv_strides`.\n",
    " * We recommend you use same padding, but you're welcome to use any padding.\n",
    "* Add bias\n",
    "* Add a nonlinear activation to the convolution.\n",
    "* Apply Max Pooling using `pool_ksize` and `pool_strides`.\n",
    " * We recommend you use same padding, but you're welcome to use any padding.\n",
    "\n",
    "**Note:** You **can't** use [TensorFlow Layers](https://www.tensorflow.org/api_docs/python/tf/layers) or [TensorFlow Layers (contrib)](https://www.tensorflow.org/api_guides/python/contrib.layers) for **this** layer, but you can still use TensorFlow's [Neural Network](https://www.tensorflow.org/api_docs/python/tf/nn) package. You may still use the shortcut option for all the **other** layers."
   ]
  },
  {
   "cell_type": "code",
   "execution_count": 59,
   "metadata": {
    "collapsed": false,
    "deletable": true,
    "editable": true
   },
   "outputs": [
    {
     "name": "stdout",
     "output_type": "stream",
     "text": [
      "Tests Passed\n"
     ]
    }
   ],
   "source": [
    "def conv2d_maxpool(x_tensor, conv_num_outputs, conv_ksize, conv_strides, pool_ksize, pool_strides):\n",
    "    \"\"\"\n",
    "    Apply convolution then max pooling to x_tensor\n",
    "    :param x_tensor: TensorFlow Tensor ok\n",
    "    :param conv_num_outputs: Number of outputs for the convolutional layer ok\n",
    "    :param conv_strides: Stride 2-D Tuple for convolution ok\n",
    "    :param pool_ksize: kernal size 2-D Tuple for pool ok\n",
    "    :param pool_strides: Stride 2-D Tuple for pool ok\n",
    "    : return: A tensor that represents convolution and max pooling of x_tensor ok\n",
    "    \"\"\"\n",
    "    # TODO: Implement Function\n",
    "    \n",
    "    #weights and biases:\n",
    "    weights = { 'w1': tf.Variable(tf.random_normal([conv_ksize[0],conv_ksize[1] \n",
    "                                                    ,x_tensor.get_shape().as_list()[-1]\n",
    "                                                    ,conv_num_outputs],stddev=0.05)) }\n",
    "    \n",
    "    biases = {'b1': tf.Variable(tf.random_normal([conv_num_outputs],stddev=0.05))}\n",
    "    \n",
    "    #convolution & relu:\n",
    "    x = tf.nn.conv2d(x_tensor, weights['w1'], strides=[1, conv_strides[0], conv_strides[0], 1], padding='SAME')\n",
    "    x = tf.nn.bias_add(x, biases['b1'])\n",
    "    x = tf.nn.relu(x)\n",
    "              \n",
    "    #maxpooling:\n",
    "    x = tf.nn.max_pool(x, ksize=[1,pool_ksize[0],pool_ksize[1],1]\n",
    "                       , strides=[1,pool_strides[0],pool_strides[0],1], padding='SAME')\n",
    "              \n",
    "              \n",
    "    \n",
    "    return x \n",
    "\n",
    "\n",
    "\"\"\"\n",
    "DON'T MODIFY ANYTHING IN THIS CELL THAT IS BELOW THIS LINE\n",
    "\"\"\"\n",
    "tests.test_con_pool(conv2d_maxpool)"
   ]
  },
  {
   "cell_type": "markdown",
   "metadata": {
    "deletable": true,
    "editable": true
   },
   "source": [
    "### Flatten Layer\n",
    "Implement the `flatten` function to change the dimension of `x_tensor` from a 4-D tensor to a 2-D tensor.  The output should be the shape (*Batch Size*, *Flattened Image Size*). Shortcut option: you can use classes from the [TensorFlow Layers](https://www.tensorflow.org/api_docs/python/tf/layers) or [TensorFlow Layers (contrib)](https://www.tensorflow.org/api_guides/python/contrib.layers) packages for this layer. For more of a challenge, only use other TensorFlow packages."
   ]
  },
  {
   "cell_type": "code",
   "execution_count": 10,
   "metadata": {
    "collapsed": false,
    "deletable": true,
    "editable": true
   },
   "outputs": [
    {
     "name": "stdout",
     "output_type": "stream",
     "text": [
      "Tests Passed\n"
     ]
    }
   ],
   "source": [
    "def flatten(x_tensor):\n",
    "    \"\"\"\n",
    "    Flatten x_tensor to (Batch Size, Flattened Image Size)\n",
    "    : x_tensor: A tensor of size (Batch Size, ...), where ... are the image dimensions.\n",
    "    : return: A tensor of size (Batch Size, Flattened Image Size).\n",
    "    \"\"\"\n",
    "    # TODO: Implement Function\n",
    "    \n",
    "    \n",
    "    x = tf.reshape(x_tensor, [-1,x_tensor.get_shape().as_list()[1]*x_tensor.get_shape().as_list()[2]*x_tensor.get_shape().as_list()[3]])\n",
    "    \n",
    "    return x\n",
    "\n",
    "\n",
    "\"\"\"\n",
    "DON'T MODIFY ANYTHING IN THIS CELL THAT IS BELOW THIS LINE\n",
    "\"\"\"\n",
    "tests.test_flatten(flatten)"
   ]
  },
  {
   "cell_type": "markdown",
   "metadata": {
    "deletable": true,
    "editable": true
   },
   "source": [
    "### Fully-Connected Layer\n",
    "Implement the `fully_conn` function to apply a fully connected layer to `x_tensor` with the shape (*Batch Size*, *num_outputs*). Shortcut option: you can use classes from the [TensorFlow Layers](https://www.tensorflow.org/api_docs/python/tf/layers) or [TensorFlow Layers (contrib)](https://www.tensorflow.org/api_guides/python/contrib.layers) packages for this layer. For more of a challenge, only use other TensorFlow packages."
   ]
  },
  {
   "cell_type": "code",
   "execution_count": 60,
   "metadata": {
    "collapsed": false,
    "deletable": true,
    "editable": true
   },
   "outputs": [
    {
     "name": "stdout",
     "output_type": "stream",
     "text": [
      "Tests Passed\n"
     ]
    }
   ],
   "source": [
    "def fully_conn(x_tensor, num_outputs):\n",
    "    \"\"\"\n",
    "    Apply a fully connected layer to x_tensor using weight and bias\n",
    "    : x_tensor: A 2-D tensor where the first dimension is batch size.\n",
    "    : num_outputs: The number of output that the new tensor should be.\n",
    "    : return: A 2-D tensor where the second dimension is num_outputs.\n",
    "    \"\"\"\n",
    "    # TODO: Implement Function\n",
    "    weights = { 'wd1': tf.Variable(tf.random_normal([x_tensor.get_shape().as_list()[1], num_outputs],stddev=0.05)) }\n",
    "    \n",
    "    biases = {'bd1': tf.Variable(tf.random_normal([num_outputs],stddev=0.05))}    \n",
    "    \n",
    "    \n",
    "    fc1 = tf.add(tf.matmul(x_tensor, weights['wd1']), biases['bd1'])\n",
    "    \n",
    "    fc1 = tf.nn.relu(fc1)\n",
    "    return fc1\n",
    "\n",
    "\n",
    "\"\"\"\n",
    "DON'T MODIFY ANYTHING IN THIS CELL THAT IS BELOW THIS LINE\n",
    "\"\"\"\n",
    "tests.test_fully_conn(fully_conn)"
   ]
  },
  {
   "cell_type": "markdown",
   "metadata": {
    "deletable": true,
    "editable": true
   },
   "source": [
    "### Output Layer\n",
    "Implement the `output` function to apply a fully connected layer to `x_tensor` with the shape (*Batch Size*, *num_outputs*). Shortcut option: you can use classes from the [TensorFlow Layers](https://www.tensorflow.org/api_docs/python/tf/layers) or [TensorFlow Layers (contrib)](https://www.tensorflow.org/api_guides/python/contrib.layers) packages for this layer. For more of a challenge, only use other TensorFlow packages.\n",
    "\n",
    "**Note:** Activation, softmax, or cross entropy should **not** be applied to this."
   ]
  },
  {
   "cell_type": "code",
   "execution_count": 61,
   "metadata": {
    "collapsed": false,
    "deletable": true,
    "editable": true
   },
   "outputs": [
    {
     "name": "stdout",
     "output_type": "stream",
     "text": [
      "Tests Passed\n"
     ]
    }
   ],
   "source": [
    "def output(x_tensor, num_outputs):\n",
    "    \"\"\"\n",
    "    Apply a output layer to x_tensor using weight and bias\n",
    "    : x_tensor: A 2-D tensor where the first dimension is batch size.\n",
    "    : num_outputs: The number of output that the new tensor should be.\n",
    "    : return: A 2-D tensor where the second dimension is num_outputs.\n",
    "    \"\"\"\n",
    "    # TODO: Implement Function\n",
    "\n",
    "    weights = { 'out': tf.Variable(tf.random_normal([x_tensor.get_shape().as_list()[1], num_outputs],stddev=0.05)) }\n",
    "    \n",
    "    biases = {'out': tf.Variable(tf.random_normal([num_outputs],stddev=0.05))}      \n",
    "    \n",
    "    out = tf.add(tf.matmul(x_tensor, weights['out']), biases['out'])\n",
    "    \n",
    "    return out\n",
    "\n",
    "\n",
    "\"\"\"\n",
    "DON'T MODIFY ANYTHING IN THIS CELL THAT IS BELOW THIS LINE\n",
    "\"\"\"\n",
    "tests.test_output(output)"
   ]
  },
  {
   "cell_type": "markdown",
   "metadata": {
    "deletable": true,
    "editable": true
   },
   "source": [
    "### Create Convolutional Model\n",
    "Implement the function `conv_net` to create a convolutional neural network model. The function takes in a batch of images, `x`, and outputs logits.  Use the layers you created above to create this model:\n",
    "\n",
    "* Apply 1, 2, or 3 Convolution and Max Pool layers\n",
    "* Apply a Flatten Layer\n",
    "* Apply 1, 2, or 3 Fully Connected Layers\n",
    "* Apply an Output Layer\n",
    "* Return the output\n",
    "* Apply [TensorFlow's Dropout](https://www.tensorflow.org/api_docs/python/tf/nn/dropout) to one or more layers in the model using `keep_prob`. "
   ]
  },
  {
   "cell_type": "code",
   "execution_count": 67,
   "metadata": {
    "collapsed": false,
    "deletable": true,
    "editable": true
   },
   "outputs": [
    {
     "name": "stdout",
     "output_type": "stream",
     "text": [
      "Neural Network Built!\n"
     ]
    }
   ],
   "source": [
    "def conv_net(x, keep_prob):\n",
    "    \"\"\"\n",
    "    Create a convolutional neural network model\n",
    "    : x: Placeholder tensor that holds image data.\n",
    "    : keep_prob: Placeholder tensor that hold dropout keep probability.\n",
    "    : return: Tensor that represents logits\n",
    "    \"\"\"\n",
    "    # TODO: Apply 1, 2, or 3 Convolution and Max Pool layers\n",
    "    #    Play around with different number of outputs, kernel size and stride\n",
    "    # Function Definition from Above:\n",
    "    #    conv2d_maxpool(x_tensor, conv_num_outputs, conv_ksize, conv_strides, pool_ksize, pool_strides)\n",
    "    \n",
    "    x = conv2d_maxpool(x, 32, [2, 2], (1,1), (2,2), (2,2))\n",
    "    x = conv2d_maxpool(x, 64, [2, 2], (1,1), (2,2), (2,2))\n",
    "    x = conv2d_maxpool(x, 128, [2, 2], (1,1), (2,2), (2,2))\n",
    "    \n",
    "    # TODO: Apply a Flatten Layer\n",
    "    # Function Definition from Above:\n",
    "    #   flatten(x_tensor)\n",
    "    \n",
    "    x = flatten(x)\n",
    "\n",
    "    # TODO: Apply 1, 2, or 3 Fully Connected Layers\n",
    "    #    Play around with different number of outputs\n",
    "    # Function Definition from Above:\n",
    "    #   fully_conn(x_tensor, num_outputs)\n",
    "    \n",
    "    \n",
    "    x = fully_conn(x, 480)\n",
    "    x = fully_conn(x, 480)\n",
    "    x = fully_conn(x, 480)\n",
    "    \n",
    "    x = tf.nn.dropout(x, keep_prob) # note to reviewer: seems to yield better results\n",
    "    \n",
    "    \n",
    "    # TODO: Apply an Output Layer\n",
    "    #    Set this to the number of classes\n",
    "    # Function Definition from Above:\n",
    "    #   output(x_tensor, num_outputs)\n",
    "    \n",
    "    x = output(x, 10)\n",
    "    \n",
    "    \n",
    "    # TODO: return output\n",
    "    return x\n",
    "\n",
    "\n",
    "\"\"\"\n",
    "DON'T MODIFY ANYTHING IN THIS CELL THAT IS BELOW THIS LINE\n",
    "\"\"\"\n",
    "\n",
    "##############################\n",
    "## Build the Neural Network ##\n",
    "##############################\n",
    "\n",
    "# Remove previous weights, bias, inputs, etc..\n",
    "tf.reset_default_graph()\n",
    "\n",
    "# Inputs\n",
    "x = neural_net_image_input((32, 32, 3))\n",
    "y = neural_net_label_input(10)\n",
    "keep_prob = neural_net_keep_prob_input()\n",
    "\n",
    "# Model\n",
    "logits = conv_net(x, keep_prob)\n",
    "\n",
    "# Name logits Tensor, so that is can be loaded from disk after training\n",
    "logits = tf.identity(logits, name='logits')\n",
    "\n",
    "# Loss and Optimizer\n",
    "cost = tf.reduce_mean(tf.nn.softmax_cross_entropy_with_logits(logits=logits, labels=y))\n",
    "optimizer = tf.train.AdamOptimizer().minimize(cost)\n",
    "\n",
    "# Accuracy\n",
    "correct_pred = tf.equal(tf.argmax(logits, 1), tf.argmax(y, 1))\n",
    "accuracy = tf.reduce_mean(tf.cast(correct_pred, tf.float32), name='accuracy')\n",
    "\n",
    "tests.test_conv_net(conv_net)"
   ]
  },
  {
   "cell_type": "markdown",
   "metadata": {
    "deletable": true,
    "editable": true
   },
   "source": [
    "## Train the Neural Network\n",
    "### Single Optimization\n",
    "Implement the function `train_neural_network` to do a single optimization.  The optimization should use `optimizer` to optimize in `session` with a `feed_dict` of the following:\n",
    "* `x` for image input\n",
    "* `y` for labels\n",
    "* `keep_prob` for keep probability for dropout\n",
    "\n",
    "This function will be called for each batch, so `tf.global_variables_initializer()` has already been called.\n",
    "\n",
    "Note: Nothing needs to be returned. This function is only optimizing the neural network."
   ]
  },
  {
   "cell_type": "code",
   "execution_count": 63,
   "metadata": {
    "collapsed": false,
    "deletable": true,
    "editable": true
   },
   "outputs": [
    {
     "name": "stdout",
     "output_type": "stream",
     "text": [
      "Tests Passed\n"
     ]
    }
   ],
   "source": [
    "def train_neural_network(session, optimizer, keep_probability, feature_batch, label_batch):\n",
    "    \"\"\"\n",
    "    Optimize the session on a batch of images and labels\n",
    "    : session: Current TensorFlow session\n",
    "    : optimizer: TensorFlow optimizer function\n",
    "    : keep_probability: keep probability\n",
    "    : feature_batch: Batch of Numpy image data\n",
    "    : label_batch: Batch of Numpy label data\n",
    "    \"\"\"\n",
    "    # TODO: Implement Function\n",
    "    session.run(optimizer, feed_dict={\n",
    "                x: feature_batch,\n",
    "                y: label_batch,\n",
    "                keep_prob: keep_probability})\n",
    "    \n",
    "    \n",
    "\n",
    "\n",
    "\"\"\"\n",
    "DON'T MODIFY ANYTHING IN THIS CELL THAT IS BELOW THIS LINE\n",
    "\"\"\"\n",
    "tests.test_train_nn(train_neural_network)"
   ]
  },
  {
   "cell_type": "markdown",
   "metadata": {
    "deletable": true,
    "editable": true
   },
   "source": [
    "### Show Stats\n",
    "Implement the function `print_stats` to print loss and validation accuracy.  Use the global variables `valid_features` and `valid_labels` to calculate validation accuracy.  Use a keep probability of `1.0` to calculate the loss and validation accuracy."
   ]
  },
  {
   "cell_type": "code",
   "execution_count": 31,
   "metadata": {
    "collapsed": false,
    "deletable": true,
    "editable": true
   },
   "outputs": [],
   "source": [
    "def print_stats(session, feature_batch, label_batch, cost, accuracy):\n",
    "    \"\"\"\n",
    "    Print information about loss and validation accuracy\n",
    "    : session: Current TensorFlow session\n",
    "    : feature_batch: Batch of Numpy image data\n",
    "    : label_batch: Batch of Numpy label data\n",
    "    : cost: TensorFlow cost function\n",
    "    : accuracy: TensorFlow accuracy function\n",
    "    \"\"\"\n",
    "    # TODO: Implement Function\n",
    "    \n",
    "    my_loss = session.run(cost, feed_dict = \n",
    "                   {x: feature_batch,y: label_batch, keep_prob: 1.0})\n",
    "    my_acc = session.run(accuracy,feed_dict = \n",
    "                  {x: valid_features, y: valid_labels, keep_prob: 1.0})\n",
    "    print('Loss: {:>10.4f} Validation Accuracy: {:.6f}'.format(my_loss, my_acc))\n",
    "    \n",
    "    #pass"
   ]
  },
  {
   "cell_type": "markdown",
   "metadata": {
    "deletable": true,
    "editable": true
   },
   "source": [
    "### Hyperparameters\n",
    "Tune the following parameters:\n",
    "* Set `epochs` to the number of iterations until the network stops learning or start overfitting\n",
    "* Set `batch_size` to the highest number that your machine has memory for.  Most people set them to common sizes of memory:\n",
    " * 64\n",
    " * 128\n",
    " * 256\n",
    " * ...\n",
    "* Set `keep_probability` to the probability of keeping a node using dropout"
   ]
  },
  {
   "cell_type": "code",
   "execution_count": 68,
   "metadata": {
    "collapsed": true,
    "deletable": true,
    "editable": true
   },
   "outputs": [],
   "source": [
    "# TODO: Tune Parameters\n",
    "epochs = 50\n",
    "batch_size = 64\n",
    "keep_probability = 0.75"
   ]
  },
  {
   "cell_type": "markdown",
   "metadata": {
    "deletable": true,
    "editable": true
   },
   "source": [
    "### Train on a Single CIFAR-10 Batch\n",
    "Instead of training the neural network on all the CIFAR-10 batches of data, let's use a single batch. This should save time while you iterate on the model to get a better accuracy.  Once the final validation accuracy is 50% or greater, run the model on all the data in the next section."
   ]
  },
  {
   "cell_type": "code",
   "execution_count": 69,
   "metadata": {
    "collapsed": false,
    "deletable": true,
    "editable": true
   },
   "outputs": [
    {
     "name": "stdout",
     "output_type": "stream",
     "text": [
      "Checking the Training on a Single Batch...\n",
      "Epoch  1, CIFAR-10 Batch 1:  Loss:     2.0968 Validation Accuracy: 0.277200\n",
      "Epoch  2, CIFAR-10 Batch 1:  Loss:     1.8777 Validation Accuracy: 0.381800\n",
      "Epoch  3, CIFAR-10 Batch 1:  Loss:     1.7474 Validation Accuracy: 0.443000\n",
      "Epoch  4, CIFAR-10 Batch 1:  Loss:     1.5638 Validation Accuracy: 0.476600\n",
      "Epoch  5, CIFAR-10 Batch 1:  Loss:     1.5120 Validation Accuracy: 0.485600\n",
      "Epoch  6, CIFAR-10 Batch 1:  Loss:     1.2834 Validation Accuracy: 0.491600\n",
      "Epoch  7, CIFAR-10 Batch 1:  Loss:     1.1153 Validation Accuracy: 0.504400\n",
      "Epoch  8, CIFAR-10 Batch 1:  Loss:     0.9873 Validation Accuracy: 0.508400\n",
      "Epoch  9, CIFAR-10 Batch 1:  Loss:     0.8427 Validation Accuracy: 0.545800\n",
      "Epoch 10, CIFAR-10 Batch 1:  Loss:     0.8635 Validation Accuracy: 0.535000\n",
      "Epoch 11, CIFAR-10 Batch 1:  Loss:     0.8232 Validation Accuracy: 0.540200\n",
      "Epoch 12, CIFAR-10 Batch 1:  Loss:     0.7489 Validation Accuracy: 0.535800\n",
      "Epoch 13, CIFAR-10 Batch 1:  Loss:     0.5736 Validation Accuracy: 0.547800\n",
      "Epoch 14, CIFAR-10 Batch 1:  Loss:     0.4332 Validation Accuracy: 0.566000\n",
      "Epoch 15, CIFAR-10 Batch 1:  Loss:     0.3263 Validation Accuracy: 0.561600\n",
      "Epoch 16, CIFAR-10 Batch 1:  Loss:     0.2449 Validation Accuracy: 0.550400\n",
      "Epoch 17, CIFAR-10 Batch 1:  Loss:     0.1576 Validation Accuracy: 0.540600\n",
      "Epoch 18, CIFAR-10 Batch 1:  Loss:     0.0828 Validation Accuracy: 0.562200\n",
      "Epoch 19, CIFAR-10 Batch 1:  Loss:     0.1039 Validation Accuracy: 0.546000\n",
      "Epoch 20, CIFAR-10 Batch 1:  Loss:     0.0806 Validation Accuracy: 0.554600\n",
      "Epoch 21, CIFAR-10 Batch 1:  Loss:     0.0993 Validation Accuracy: 0.553000\n",
      "Epoch 22, CIFAR-10 Batch 1:  Loss:     0.0349 Validation Accuracy: 0.542200\n",
      "Epoch 23, CIFAR-10 Batch 1:  Loss:     0.0117 Validation Accuracy: 0.548000\n",
      "Epoch 24, CIFAR-10 Batch 1:  Loss:     0.0134 Validation Accuracy: 0.539800\n",
      "Epoch 25, CIFAR-10 Batch 1:  Loss:     0.0137 Validation Accuracy: 0.543000\n",
      "Epoch 26, CIFAR-10 Batch 1:  Loss:     0.0061 Validation Accuracy: 0.546600\n",
      "Epoch 27, CIFAR-10 Batch 1:  Loss:     0.0117 Validation Accuracy: 0.548000\n",
      "Epoch 28, CIFAR-10 Batch 1:  Loss:     0.0157 Validation Accuracy: 0.545800\n",
      "Epoch 29, CIFAR-10 Batch 1:  Loss:     0.0077 Validation Accuracy: 0.537200\n",
      "Epoch 30, CIFAR-10 Batch 1:  Loss:     0.0107 Validation Accuracy: 0.548200\n",
      "Epoch 31, CIFAR-10 Batch 1:  Loss:     0.0113 Validation Accuracy: 0.549000\n",
      "Epoch 32, CIFAR-10 Batch 1:  Loss:     0.0142 Validation Accuracy: 0.545600\n",
      "Epoch 33, CIFAR-10 Batch 1:  Loss:     0.0058 Validation Accuracy: 0.546200\n",
      "Epoch 34, CIFAR-10 Batch 1:  Loss:     0.0108 Validation Accuracy: 0.550200\n",
      "Epoch 35, CIFAR-10 Batch 1:  Loss:     0.0581 Validation Accuracy: 0.528200\n",
      "Epoch 36, CIFAR-10 Batch 1:  Loss:     0.0072 Validation Accuracy: 0.555400\n",
      "Epoch 37, CIFAR-10 Batch 1:  Loss:     0.0135 Validation Accuracy: 0.546800\n",
      "Epoch 38, CIFAR-10 Batch 1:  Loss:     0.0010 Validation Accuracy: 0.551600\n",
      "Epoch 39, CIFAR-10 Batch 1:  Loss:     0.0059 Validation Accuracy: 0.543200\n",
      "Epoch 40, CIFAR-10 Batch 1:  Loss:     0.0036 Validation Accuracy: 0.553400\n",
      "Epoch 41, CIFAR-10 Batch 1:  Loss:     0.0078 Validation Accuracy: 0.546200\n",
      "Epoch 42, CIFAR-10 Batch 1:  Loss:     0.0097 Validation Accuracy: 0.527600\n",
      "Epoch 43, CIFAR-10 Batch 1:  Loss:     0.0008 Validation Accuracy: 0.566800\n",
      "Epoch 44, CIFAR-10 Batch 1:  Loss:     0.0041 Validation Accuracy: 0.535600\n",
      "Epoch 45, CIFAR-10 Batch 1:  Loss:     0.0065 Validation Accuracy: 0.529000\n",
      "Epoch 46, CIFAR-10 Batch 1:  Loss:     0.0204 Validation Accuracy: 0.528400\n",
      "Epoch 47, CIFAR-10 Batch 1:  Loss:     0.0041 Validation Accuracy: 0.547800\n",
      "Epoch 48, CIFAR-10 Batch 1:  Loss:     0.0021 Validation Accuracy: 0.552400\n",
      "Epoch 49, CIFAR-10 Batch 1:  Loss:     0.0011 Validation Accuracy: 0.556600\n",
      "Epoch 50, CIFAR-10 Batch 1:  Loss:     0.0065 Validation Accuracy: 0.534400\n"
     ]
    }
   ],
   "source": [
    "\"\"\"\n",
    "DON'T MODIFY ANYTHING IN THIS CELL\n",
    "\"\"\"\n",
    "print('Checking the Training on a Single Batch...')\n",
    "with tf.Session() as sess:\n",
    "    # Initializing the variables\n",
    "    sess.run(tf.global_variables_initializer())\n",
    "    \n",
    "    # Training cycle\n",
    "    for epoch in range(epochs):\n",
    "        batch_i = 1\n",
    "        for batch_features, batch_labels in helper.load_preprocess_training_batch(batch_i, batch_size):\n",
    "            train_neural_network(sess, optimizer, keep_probability, batch_features, batch_labels)\n",
    "        print('Epoch {:>2}, CIFAR-10 Batch {}:  '.format(epoch + 1, batch_i), end='')\n",
    "        print_stats(sess, batch_features, batch_labels, cost, accuracy)"
   ]
  },
  {
   "cell_type": "markdown",
   "metadata": {
    "deletable": true,
    "editable": true
   },
   "source": [
    "### Fully Train the Model\n",
    "Now that you got a good accuracy with a single CIFAR-10 batch, try it with all five batches."
   ]
  },
  {
   "cell_type": "code",
   "execution_count": 70,
   "metadata": {
    "collapsed": false,
    "deletable": true,
    "editable": true
   },
   "outputs": [
    {
     "name": "stdout",
     "output_type": "stream",
     "text": [
      "Training...\n",
      "Epoch  1, CIFAR-10 Batch 1:  Loss:     2.0123 Validation Accuracy: 0.323000\n",
      "Epoch  1, CIFAR-10 Batch 2:  Loss:     1.6488 Validation Accuracy: 0.421400\n",
      "Epoch  1, CIFAR-10 Batch 3:  Loss:     1.2167 Validation Accuracy: 0.470000\n",
      "Epoch  1, CIFAR-10 Batch 4:  Loss:     1.2976 Validation Accuracy: 0.500400\n",
      "Epoch  1, CIFAR-10 Batch 5:  Loss:     1.3925 Validation Accuracy: 0.532000\n",
      "Epoch  2, CIFAR-10 Batch 1:  Loss:     1.5194 Validation Accuracy: 0.505400\n",
      "Epoch  2, CIFAR-10 Batch 2:  Loss:     1.1808 Validation Accuracy: 0.572400\n",
      "Epoch  2, CIFAR-10 Batch 3:  Loss:     0.9197 Validation Accuracy: 0.573000\n",
      "Epoch  2, CIFAR-10 Batch 4:  Loss:     0.9245 Validation Accuracy: 0.574400\n",
      "Epoch  2, CIFAR-10 Batch 5:  Loss:     1.0126 Validation Accuracy: 0.621800\n",
      "Epoch  3, CIFAR-10 Batch 1:  Loss:     1.1746 Validation Accuracy: 0.579600\n",
      "Epoch  3, CIFAR-10 Batch 2:  Loss:     0.9913 Validation Accuracy: 0.627200\n",
      "Epoch  3, CIFAR-10 Batch 3:  Loss:     0.7692 Validation Accuracy: 0.639200\n",
      "Epoch  3, CIFAR-10 Batch 4:  Loss:     0.6796 Validation Accuracy: 0.634000\n",
      "Epoch  3, CIFAR-10 Batch 5:  Loss:     0.8801 Validation Accuracy: 0.648200\n",
      "Epoch  4, CIFAR-10 Batch 1:  Loss:     0.9697 Validation Accuracy: 0.640000\n",
      "Epoch  4, CIFAR-10 Batch 2:  Loss:     0.9123 Validation Accuracy: 0.662800\n",
      "Epoch  4, CIFAR-10 Batch 3:  Loss:     0.6172 Validation Accuracy: 0.660200\n",
      "Epoch  4, CIFAR-10 Batch 4:  Loss:     0.5559 Validation Accuracy: 0.677600\n",
      "Epoch  4, CIFAR-10 Batch 5:  Loss:     0.6232 Validation Accuracy: 0.670400\n",
      "Epoch  5, CIFAR-10 Batch 1:  Loss:     0.7584 Validation Accuracy: 0.656400\n",
      "Epoch  5, CIFAR-10 Batch 2:  Loss:     0.6998 Validation Accuracy: 0.662200\n",
      "Epoch  5, CIFAR-10 Batch 3:  Loss:     0.4991 Validation Accuracy: 0.680600\n",
      "Epoch  5, CIFAR-10 Batch 4:  Loss:     0.3824 Validation Accuracy: 0.689800\n",
      "Epoch  5, CIFAR-10 Batch 5:  Loss:     0.4929 Validation Accuracy: 0.673200\n",
      "Epoch  6, CIFAR-10 Batch 1:  Loss:     0.6268 Validation Accuracy: 0.674000\n",
      "Epoch  6, CIFAR-10 Batch 2:  Loss:     0.5565 Validation Accuracy: 0.665400\n",
      "Epoch  6, CIFAR-10 Batch 3:  Loss:     0.3833 Validation Accuracy: 0.687600\n",
      "Epoch  6, CIFAR-10 Batch 4:  Loss:     0.3079 Validation Accuracy: 0.695000\n",
      "Epoch  6, CIFAR-10 Batch 5:  Loss:     0.3459 Validation Accuracy: 0.682600\n",
      "Epoch  7, CIFAR-10 Batch 1:  Loss:     0.5300 Validation Accuracy: 0.655800\n",
      "Epoch  7, CIFAR-10 Batch 2:  Loss:     0.5119 Validation Accuracy: 0.679200\n",
      "Epoch  7, CIFAR-10 Batch 3:  Loss:     0.2542 Validation Accuracy: 0.687000\n",
      "Epoch  7, CIFAR-10 Batch 4:  Loss:     0.2340 Validation Accuracy: 0.683600\n",
      "Epoch  7, CIFAR-10 Batch 5:  Loss:     0.2927 Validation Accuracy: 0.689800\n",
      "Epoch  8, CIFAR-10 Batch 1:  Loss:     0.4277 Validation Accuracy: 0.665000\n",
      "Epoch  8, CIFAR-10 Batch 2:  Loss:     0.4164 Validation Accuracy: 0.667200\n",
      "Epoch  8, CIFAR-10 Batch 3:  Loss:     0.2739 Validation Accuracy: 0.675600\n",
      "Epoch  8, CIFAR-10 Batch 4:  Loss:     0.2948 Validation Accuracy: 0.675200\n",
      "Epoch  8, CIFAR-10 Batch 5:  Loss:     0.2134 Validation Accuracy: 0.683800\n",
      "Epoch  9, CIFAR-10 Batch 1:  Loss:     0.4168 Validation Accuracy: 0.669800\n",
      "Epoch  9, CIFAR-10 Batch 2:  Loss:     0.2887 Validation Accuracy: 0.682800\n",
      "Epoch  9, CIFAR-10 Batch 3:  Loss:     0.1997 Validation Accuracy: 0.676000\n",
      "Epoch  9, CIFAR-10 Batch 4:  Loss:     0.2148 Validation Accuracy: 0.680000\n",
      "Epoch  9, CIFAR-10 Batch 5:  Loss:     0.1380 Validation Accuracy: 0.662200\n",
      "Epoch 10, CIFAR-10 Batch 1:  Loss:     0.3826 Validation Accuracy: 0.659800\n",
      "Epoch 10, CIFAR-10 Batch 2:  Loss:     0.2900 Validation Accuracy: 0.677800\n",
      "Epoch 10, CIFAR-10 Batch 3:  Loss:     0.1045 Validation Accuracy: 0.686800\n",
      "Epoch 10, CIFAR-10 Batch 4:  Loss:     0.2290 Validation Accuracy: 0.674600\n",
      "Epoch 10, CIFAR-10 Batch 5:  Loss:     0.1314 Validation Accuracy: 0.683600\n",
      "Epoch 11, CIFAR-10 Batch 1:  Loss:     0.2699 Validation Accuracy: 0.685200\n",
      "Epoch 11, CIFAR-10 Batch 2:  Loss:     0.2612 Validation Accuracy: 0.670000\n",
      "Epoch 11, CIFAR-10 Batch 3:  Loss:     0.0685 Validation Accuracy: 0.679400\n",
      "Epoch 11, CIFAR-10 Batch 4:  Loss:     0.1221 Validation Accuracy: 0.686800\n",
      "Epoch 11, CIFAR-10 Batch 5:  Loss:     0.0765 Validation Accuracy: 0.671000\n",
      "Epoch 12, CIFAR-10 Batch 1:  Loss:     0.1999 Validation Accuracy: 0.679600\n",
      "Epoch 12, CIFAR-10 Batch 2:  Loss:     0.1182 Validation Accuracy: 0.667800\n",
      "Epoch 12, CIFAR-10 Batch 3:  Loss:     0.0611 Validation Accuracy: 0.684000\n",
      "Epoch 12, CIFAR-10 Batch 4:  Loss:     0.0960 Validation Accuracy: 0.679000\n",
      "Epoch 12, CIFAR-10 Batch 5:  Loss:     0.0745 Validation Accuracy: 0.667600\n",
      "Epoch 13, CIFAR-10 Batch 1:  Loss:     0.1478 Validation Accuracy: 0.688200\n",
      "Epoch 13, CIFAR-10 Batch 2:  Loss:     0.1066 Validation Accuracy: 0.634000\n",
      "Epoch 13, CIFAR-10 Batch 3:  Loss:     0.0684 Validation Accuracy: 0.678800\n",
      "Epoch 13, CIFAR-10 Batch 4:  Loss:     0.0701 Validation Accuracy: 0.686400\n",
      "Epoch 13, CIFAR-10 Batch 5:  Loss:     0.0830 Validation Accuracy: 0.650800\n",
      "Epoch 14, CIFAR-10 Batch 1:  Loss:     0.0717 Validation Accuracy: 0.690200\n",
      "Epoch 14, CIFAR-10 Batch 2:  Loss:     0.0879 Validation Accuracy: 0.655400\n",
      "Epoch 14, CIFAR-10 Batch 3:  Loss:     0.0676 Validation Accuracy: 0.685200\n",
      "Epoch 14, CIFAR-10 Batch 4:  Loss:     0.0521 Validation Accuracy: 0.673600\n",
      "Epoch 14, CIFAR-10 Batch 5:  Loss:     0.0371 Validation Accuracy: 0.671200\n",
      "Epoch 15, CIFAR-10 Batch 1:  Loss:     0.0533 Validation Accuracy: 0.691000\n",
      "Epoch 15, CIFAR-10 Batch 2:  Loss:     0.1053 Validation Accuracy: 0.657200\n",
      "Epoch 15, CIFAR-10 Batch 3:  Loss:     0.0488 Validation Accuracy: 0.677600\n",
      "Epoch 15, CIFAR-10 Batch 4:  Loss:     0.1133 Validation Accuracy: 0.682600\n",
      "Epoch 15, CIFAR-10 Batch 5:  Loss:     0.0563 Validation Accuracy: 0.662200\n",
      "Epoch 16, CIFAR-10 Batch 1:  Loss:     0.0458 Validation Accuracy: 0.682600\n",
      "Epoch 16, CIFAR-10 Batch 2:  Loss:     0.0278 Validation Accuracy: 0.658400\n",
      "Epoch 16, CIFAR-10 Batch 3:  Loss:     0.0187 Validation Accuracy: 0.687800\n",
      "Epoch 16, CIFAR-10 Batch 4:  Loss:     0.0543 Validation Accuracy: 0.672600\n",
      "Epoch 16, CIFAR-10 Batch 5:  Loss:     0.0433 Validation Accuracy: 0.645400\n",
      "Epoch 17, CIFAR-10 Batch 1:  Loss:     0.0180 Validation Accuracy: 0.672200\n",
      "Epoch 17, CIFAR-10 Batch 2:  Loss:     0.0200 Validation Accuracy: 0.679200\n",
      "Epoch 17, CIFAR-10 Batch 3:  Loss:     0.0475 Validation Accuracy: 0.681200\n",
      "Epoch 17, CIFAR-10 Batch 4:  Loss:     0.0383 Validation Accuracy: 0.674800\n",
      "Epoch 17, CIFAR-10 Batch 5:  Loss:     0.0391 Validation Accuracy: 0.664400\n",
      "Epoch 18, CIFAR-10 Batch 1:  Loss:     0.0308 Validation Accuracy: 0.668800\n",
      "Epoch 18, CIFAR-10 Batch 2:  Loss:     0.0285 Validation Accuracy: 0.681800\n",
      "Epoch 18, CIFAR-10 Batch 3:  Loss:     0.0042 Validation Accuracy: 0.678600\n",
      "Epoch 18, CIFAR-10 Batch 4:  Loss:     0.0420 Validation Accuracy: 0.675200\n",
      "Epoch 18, CIFAR-10 Batch 5:  Loss:     0.0186 Validation Accuracy: 0.657000\n",
      "Epoch 19, CIFAR-10 Batch 1:  Loss:     0.0404 Validation Accuracy: 0.669000\n",
      "Epoch 19, CIFAR-10 Batch 2:  Loss:     0.0119 Validation Accuracy: 0.677200\n",
      "Epoch 19, CIFAR-10 Batch 3:  Loss:     0.0122 Validation Accuracy: 0.687200\n",
      "Epoch 19, CIFAR-10 Batch 4:  Loss:     0.0376 Validation Accuracy: 0.664400\n",
      "Epoch 19, CIFAR-10 Batch 5:  Loss:     0.0352 Validation Accuracy: 0.669200\n",
      "Epoch 20, CIFAR-10 Batch 1:  Loss:     0.0247 Validation Accuracy: 0.680600\n",
      "Epoch 20, CIFAR-10 Batch 2:  Loss:     0.0139 Validation Accuracy: 0.666000\n",
      "Epoch 20, CIFAR-10 Batch 3:  Loss:     0.0579 Validation Accuracy: 0.667000\n",
      "Epoch 20, CIFAR-10 Batch 4:  Loss:     0.0170 Validation Accuracy: 0.657600\n",
      "Epoch 20, CIFAR-10 Batch 5:  Loss:     0.0119 Validation Accuracy: 0.677800\n",
      "Epoch 21, CIFAR-10 Batch 1:  Loss:     0.0116 Validation Accuracy: 0.686200\n",
      "Epoch 21, CIFAR-10 Batch 2:  Loss:     0.0198 Validation Accuracy: 0.672800\n",
      "Epoch 21, CIFAR-10 Batch 3:  Loss:     0.0141 Validation Accuracy: 0.680600\n",
      "Epoch 21, CIFAR-10 Batch 4:  Loss:     0.0158 Validation Accuracy: 0.652600\n",
      "Epoch 21, CIFAR-10 Batch 5:  Loss:     0.0369 Validation Accuracy: 0.682800\n",
      "Epoch 22, CIFAR-10 Batch 1:  Loss:     0.0068 Validation Accuracy: 0.685000\n",
      "Epoch 22, CIFAR-10 Batch 2:  Loss:     0.0557 Validation Accuracy: 0.675800\n",
      "Epoch 22, CIFAR-10 Batch 3:  Loss:     0.0122 Validation Accuracy: 0.680800\n",
      "Epoch 22, CIFAR-10 Batch 4:  Loss:     0.0076 Validation Accuracy: 0.654600\n",
      "Epoch 22, CIFAR-10 Batch 5:  Loss:     0.0109 Validation Accuracy: 0.683800\n",
      "Epoch 23, CIFAR-10 Batch 1:  Loss:     0.0214 Validation Accuracy: 0.684000\n",
      "Epoch 23, CIFAR-10 Batch 2:  Loss:     0.0053 Validation Accuracy: 0.683400\n",
      "Epoch 23, CIFAR-10 Batch 3:  Loss:     0.0210 Validation Accuracy: 0.684000\n",
      "Epoch 23, CIFAR-10 Batch 4:  Loss:     0.0196 Validation Accuracy: 0.666800\n",
      "Epoch 23, CIFAR-10 Batch 5:  Loss:     0.0057 Validation Accuracy: 0.694200\n",
      "Epoch 24, CIFAR-10 Batch 1:  Loss:     0.0429 Validation Accuracy: 0.692000\n",
      "Epoch 24, CIFAR-10 Batch 2:  Loss:     0.0092 Validation Accuracy: 0.672400\n",
      "Epoch 24, CIFAR-10 Batch 3:  Loss:     0.0070 Validation Accuracy: 0.687000\n",
      "Epoch 24, CIFAR-10 Batch 4:  Loss:     0.0166 Validation Accuracy: 0.665600\n",
      "Epoch 24, CIFAR-10 Batch 5:  Loss:     0.0120 Validation Accuracy: 0.690000\n",
      "Epoch 25, CIFAR-10 Batch 1:  Loss:     0.0189 Validation Accuracy: 0.686200\n",
      "Epoch 25, CIFAR-10 Batch 2:  Loss:     0.0040 Validation Accuracy: 0.666200\n",
      "Epoch 25, CIFAR-10 Batch 3:  Loss:     0.0107 Validation Accuracy: 0.695600\n",
      "Epoch 25, CIFAR-10 Batch 4:  Loss:     0.0198 Validation Accuracy: 0.670000\n",
      "Epoch 25, CIFAR-10 Batch 5:  Loss:     0.0086 Validation Accuracy: 0.695400\n",
      "Epoch 26, CIFAR-10 Batch 1:  Loss:     0.0055 Validation Accuracy: 0.685600\n",
      "Epoch 26, CIFAR-10 Batch 2:  Loss:     0.0076 Validation Accuracy: 0.684000\n",
      "Epoch 26, CIFAR-10 Batch 3:  Loss:     0.0102 Validation Accuracy: 0.699000\n",
      "Epoch 26, CIFAR-10 Batch 4:  Loss:     0.0106 Validation Accuracy: 0.678600\n",
      "Epoch 26, CIFAR-10 Batch 5:  Loss:     0.0039 Validation Accuracy: 0.696600\n",
      "Epoch 27, CIFAR-10 Batch 1:  Loss:     0.0075 Validation Accuracy: 0.695800\n",
      "Epoch 27, CIFAR-10 Batch 2:  Loss:     0.0165 Validation Accuracy: 0.673200\n",
      "Epoch 27, CIFAR-10 Batch 3:  Loss:     0.0054 Validation Accuracy: 0.686800\n",
      "Epoch 27, CIFAR-10 Batch 4:  Loss:     0.0055 Validation Accuracy: 0.679800\n",
      "Epoch 27, CIFAR-10 Batch 5:  Loss:     0.0092 Validation Accuracy: 0.684400\n",
      "Epoch 28, CIFAR-10 Batch 1:  Loss:     0.0885 Validation Accuracy: 0.689200\n",
      "Epoch 28, CIFAR-10 Batch 2:  Loss:     0.0121 Validation Accuracy: 0.671200\n",
      "Epoch 28, CIFAR-10 Batch 3:  Loss:     0.0048 Validation Accuracy: 0.679400\n",
      "Epoch 28, CIFAR-10 Batch 4:  Loss:     0.0064 Validation Accuracy: 0.672200\n",
      "Epoch 28, CIFAR-10 Batch 5:  Loss:     0.0050 Validation Accuracy: 0.690000\n",
      "Epoch 29, CIFAR-10 Batch 1:  Loss:     0.0117 Validation Accuracy: 0.694000\n",
      "Epoch 29, CIFAR-10 Batch 2:  Loss:     0.0319 Validation Accuracy: 0.674200\n",
      "Epoch 29, CIFAR-10 Batch 3:  Loss:     0.0067 Validation Accuracy: 0.693000\n",
      "Epoch 29, CIFAR-10 Batch 4:  Loss:     0.0017 Validation Accuracy: 0.685400\n",
      "Epoch 29, CIFAR-10 Batch 5:  Loss:     0.0225 Validation Accuracy: 0.687000\n",
      "Epoch 30, CIFAR-10 Batch 1:  Loss:     0.0051 Validation Accuracy: 0.681200\n",
      "Epoch 30, CIFAR-10 Batch 2:  Loss:     0.0018 Validation Accuracy: 0.684400\n",
      "Epoch 30, CIFAR-10 Batch 3:  Loss:     0.0223 Validation Accuracy: 0.695000\n",
      "Epoch 30, CIFAR-10 Batch 4:  Loss:     0.0113 Validation Accuracy: 0.687600\n",
      "Epoch 30, CIFAR-10 Batch 5:  Loss:     0.0142 Validation Accuracy: 0.690200\n",
      "Epoch 31, CIFAR-10 Batch 1:  Loss:     0.0023 Validation Accuracy: 0.686600\n",
      "Epoch 31, CIFAR-10 Batch 2:  Loss:     0.0031 Validation Accuracy: 0.676000\n",
      "Epoch 31, CIFAR-10 Batch 3:  Loss:     0.0054 Validation Accuracy: 0.681600\n",
      "Epoch 31, CIFAR-10 Batch 4:  Loss:     0.0073 Validation Accuracy: 0.679600\n",
      "Epoch 31, CIFAR-10 Batch 5:  Loss:     0.0112 Validation Accuracy: 0.666400\n",
      "Epoch 32, CIFAR-10 Batch 1:  Loss:     0.0082 Validation Accuracy: 0.681200\n",
      "Epoch 32, CIFAR-10 Batch 2:  Loss:     0.0012 Validation Accuracy: 0.687200\n",
      "Epoch 32, CIFAR-10 Batch 3:  Loss:     0.0030 Validation Accuracy: 0.686400\n",
      "Epoch 32, CIFAR-10 Batch 4:  Loss:     0.0033 Validation Accuracy: 0.690800\n",
      "Epoch 32, CIFAR-10 Batch 5:  Loss:     0.0138 Validation Accuracy: 0.691400\n",
      "Epoch 33, CIFAR-10 Batch 1:  Loss:     0.0052 Validation Accuracy: 0.693200\n",
      "Epoch 33, CIFAR-10 Batch 2:  Loss:     0.0024 Validation Accuracy: 0.677000\n",
      "Epoch 33, CIFAR-10 Batch 3:  Loss:     0.0012 Validation Accuracy: 0.692000\n",
      "Epoch 33, CIFAR-10 Batch 4:  Loss:     0.0062 Validation Accuracy: 0.687400\n",
      "Epoch 33, CIFAR-10 Batch 5:  Loss:     0.0097 Validation Accuracy: 0.668600\n",
      "Epoch 34, CIFAR-10 Batch 1:  Loss:     0.0024 Validation Accuracy: 0.695200\n",
      "Epoch 34, CIFAR-10 Batch 2:  Loss:     0.0057 Validation Accuracy: 0.674200\n",
      "Epoch 34, CIFAR-10 Batch 3:  Loss:     0.0067 Validation Accuracy: 0.693800\n",
      "Epoch 34, CIFAR-10 Batch 4:  Loss:     0.0030 Validation Accuracy: 0.694400\n",
      "Epoch 34, CIFAR-10 Batch 5:  Loss:     0.0019 Validation Accuracy: 0.688200\n",
      "Epoch 35, CIFAR-10 Batch 1:  Loss:     0.0033 Validation Accuracy: 0.687000\n",
      "Epoch 35, CIFAR-10 Batch 2:  Loss:     0.0019 Validation Accuracy: 0.685200\n",
      "Epoch 35, CIFAR-10 Batch 3:  Loss:     0.0005 Validation Accuracy: 0.691200\n",
      "Epoch 35, CIFAR-10 Batch 4:  Loss:     0.0036 Validation Accuracy: 0.687600\n",
      "Epoch 35, CIFAR-10 Batch 5:  Loss:     0.0020 Validation Accuracy: 0.676400\n",
      "Epoch 36, CIFAR-10 Batch 1:  Loss:     0.0036 Validation Accuracy: 0.683800\n",
      "Epoch 36, CIFAR-10 Batch 2:  Loss:     0.0124 Validation Accuracy: 0.670600\n",
      "Epoch 36, CIFAR-10 Batch 3:  Loss:     0.0012 Validation Accuracy: 0.702600\n",
      "Epoch 36, CIFAR-10 Batch 4:  Loss:     0.0018 Validation Accuracy: 0.689200\n",
      "Epoch 36, CIFAR-10 Batch 5:  Loss:     0.0290 Validation Accuracy: 0.686600\n",
      "Epoch 37, CIFAR-10 Batch 1:  Loss:     0.0058 Validation Accuracy: 0.685400\n",
      "Epoch 37, CIFAR-10 Batch 2:  Loss:     0.0200 Validation Accuracy: 0.681800\n",
      "Epoch 37, CIFAR-10 Batch 3:  Loss:     0.0056 Validation Accuracy: 0.691400\n",
      "Epoch 37, CIFAR-10 Batch 4:  Loss:     0.0124 Validation Accuracy: 0.690400\n",
      "Epoch 37, CIFAR-10 Batch 5:  Loss:     0.0028 Validation Accuracy: 0.687200\n",
      "Epoch 38, CIFAR-10 Batch 1:  Loss:     0.0064 Validation Accuracy: 0.684400\n",
      "Epoch 38, CIFAR-10 Batch 2:  Loss:     0.0197 Validation Accuracy: 0.684800\n",
      "Epoch 38, CIFAR-10 Batch 3:  Loss:     0.0067 Validation Accuracy: 0.690000\n",
      "Epoch 38, CIFAR-10 Batch 4:  Loss:     0.0015 Validation Accuracy: 0.680200\n",
      "Epoch 38, CIFAR-10 Batch 5:  Loss:     0.0041 Validation Accuracy: 0.692800\n",
      "Epoch 39, CIFAR-10 Batch 1:  Loss:     0.0041 Validation Accuracy: 0.684400\n",
      "Epoch 39, CIFAR-10 Batch 2:  Loss:     0.0011 Validation Accuracy: 0.684200\n",
      "Epoch 39, CIFAR-10 Batch 3:  Loss:     0.0021 Validation Accuracy: 0.681400\n",
      "Epoch 39, CIFAR-10 Batch 4:  Loss:     0.0009 Validation Accuracy: 0.683400\n",
      "Epoch 39, CIFAR-10 Batch 5:  Loss:     0.0031 Validation Accuracy: 0.692400\n",
      "Epoch 40, CIFAR-10 Batch 1:  Loss:     0.0025 Validation Accuracy: 0.677000\n",
      "Epoch 40, CIFAR-10 Batch 2:  Loss:     0.0048 Validation Accuracy: 0.694400\n",
      "Epoch 40, CIFAR-10 Batch 3:  Loss:     0.0076 Validation Accuracy: 0.688600\n",
      "Epoch 40, CIFAR-10 Batch 4:  Loss:     0.0021 Validation Accuracy: 0.694000\n",
      "Epoch 40, CIFAR-10 Batch 5:  Loss:     0.0049 Validation Accuracy: 0.698200\n",
      "Epoch 41, CIFAR-10 Batch 1:  Loss:     0.0198 Validation Accuracy: 0.684800\n",
      "Epoch 41, CIFAR-10 Batch 2:  Loss:     0.0040 Validation Accuracy: 0.698800\n",
      "Epoch 41, CIFAR-10 Batch 3:  Loss:     0.0351 Validation Accuracy: 0.694800\n",
      "Epoch 41, CIFAR-10 Batch 4:  Loss:     0.0057 Validation Accuracy: 0.689800\n",
      "Epoch 41, CIFAR-10 Batch 5:  Loss:     0.0031 Validation Accuracy: 0.681400\n",
      "Epoch 42, CIFAR-10 Batch 1:  Loss:     0.0005 Validation Accuracy: 0.702200\n",
      "Epoch 42, CIFAR-10 Batch 2:  Loss:     0.0006 Validation Accuracy: 0.701800\n",
      "Epoch 42, CIFAR-10 Batch 3:  Loss:     0.0057 Validation Accuracy: 0.688200\n",
      "Epoch 42, CIFAR-10 Batch 4:  Loss:     0.0051 Validation Accuracy: 0.687600\n",
      "Epoch 42, CIFAR-10 Batch 5:  Loss:     0.0017 Validation Accuracy: 0.686400\n",
      "Epoch 43, CIFAR-10 Batch 1:  Loss:     0.0010 Validation Accuracy: 0.686800\n",
      "Epoch 43, CIFAR-10 Batch 2:  Loss:     0.0018 Validation Accuracy: 0.692800\n",
      "Epoch 43, CIFAR-10 Batch 3:  Loss:     0.0040 Validation Accuracy: 0.689400\n",
      "Epoch 43, CIFAR-10 Batch 4:  Loss:     0.0080 Validation Accuracy: 0.691200\n",
      "Epoch 43, CIFAR-10 Batch 5:  Loss:     0.0041 Validation Accuracy: 0.696000\n",
      "Epoch 44, CIFAR-10 Batch 1:  Loss:     0.0310 Validation Accuracy: 0.692600\n",
      "Epoch 44, CIFAR-10 Batch 2:  Loss:     0.0006 Validation Accuracy: 0.685400\n",
      "Epoch 44, CIFAR-10 Batch 3:  Loss:     0.0011 Validation Accuracy: 0.692000\n",
      "Epoch 44, CIFAR-10 Batch 4:  Loss:     0.0034 Validation Accuracy: 0.679400\n",
      "Epoch 44, CIFAR-10 Batch 5:  Loss:     0.0006 Validation Accuracy: 0.688000\n",
      "Epoch 45, CIFAR-10 Batch 1:  Loss:     0.0021 Validation Accuracy: 0.683800\n",
      "Epoch 45, CIFAR-10 Batch 2:  Loss:     0.0013 Validation Accuracy: 0.684400\n",
      "Epoch 45, CIFAR-10 Batch 3:  Loss:     0.0092 Validation Accuracy: 0.696600\n",
      "Epoch 45, CIFAR-10 Batch 4:  Loss:     0.0081 Validation Accuracy: 0.681400\n",
      "Epoch 45, CIFAR-10 Batch 5:  Loss:     0.0020 Validation Accuracy: 0.691200\n",
      "Epoch 46, CIFAR-10 Batch 1:  Loss:     0.0023 Validation Accuracy: 0.685800\n",
      "Epoch 46, CIFAR-10 Batch 2:  Loss:     0.0048 Validation Accuracy: 0.692600\n",
      "Epoch 46, CIFAR-10 Batch 3:  Loss:     0.0011 Validation Accuracy: 0.683400\n",
      "Epoch 46, CIFAR-10 Batch 4:  Loss:     0.0037 Validation Accuracy: 0.680200\n",
      "Epoch 46, CIFAR-10 Batch 5:  Loss:     0.0034 Validation Accuracy: 0.677400\n",
      "Epoch 47, CIFAR-10 Batch 1:  Loss:     0.0020 Validation Accuracy: 0.688400\n",
      "Epoch 47, CIFAR-10 Batch 2:  Loss:     0.0089 Validation Accuracy: 0.690400\n",
      "Epoch 47, CIFAR-10 Batch 3:  Loss:     0.0042 Validation Accuracy: 0.689000\n",
      "Epoch 47, CIFAR-10 Batch 4:  Loss:     0.0043 Validation Accuracy: 0.686800\n",
      "Epoch 47, CIFAR-10 Batch 5:  Loss:     0.0030 Validation Accuracy: 0.697600\n",
      "Epoch 48, CIFAR-10 Batch 1:  Loss:     0.0028 Validation Accuracy: 0.688200\n",
      "Epoch 48, CIFAR-10 Batch 2:  Loss:     0.0041 Validation Accuracy: 0.680400\n",
      "Epoch 48, CIFAR-10 Batch 3:  Loss:     0.0034 Validation Accuracy: 0.687000\n",
      "Epoch 48, CIFAR-10 Batch 4:  Loss:     0.0012 Validation Accuracy: 0.693600\n",
      "Epoch 48, CIFAR-10 Batch 5:  Loss:     0.0007 Validation Accuracy: 0.679600\n",
      "Epoch 49, CIFAR-10 Batch 1:  Loss:     0.0008 Validation Accuracy: 0.691600\n",
      "Epoch 49, CIFAR-10 Batch 2:  Loss:     0.0008 Validation Accuracy: 0.696600\n",
      "Epoch 49, CIFAR-10 Batch 3:  Loss:     0.0011 Validation Accuracy: 0.696800\n",
      "Epoch 49, CIFAR-10 Batch 4:  Loss:     0.0051 Validation Accuracy: 0.691600\n",
      "Epoch 49, CIFAR-10 Batch 5:  Loss:     0.0011 Validation Accuracy: 0.694600\n",
      "Epoch 50, CIFAR-10 Batch 1:  Loss:     0.0122 Validation Accuracy: 0.697200\n",
      "Epoch 50, CIFAR-10 Batch 2:  Loss:     0.0001 Validation Accuracy: 0.689000\n",
      "Epoch 50, CIFAR-10 Batch 3:  Loss:     0.0013 Validation Accuracy: 0.701800\n",
      "Epoch 50, CIFAR-10 Batch 4:  Loss:     0.0277 Validation Accuracy: 0.689000\n",
      "Epoch 50, CIFAR-10 Batch 5:  Loss:     0.0054 Validation Accuracy: 0.685400\n"
     ]
    }
   ],
   "source": [
    "\"\"\"\n",
    "DON'T MODIFY ANYTHING IN THIS CELL\n",
    "\"\"\"\n",
    "save_model_path = './image_classification'\n",
    "\n",
    "print('Training...')\n",
    "with tf.Session() as sess:\n",
    "    # Initializing the variables\n",
    "    sess.run(tf.global_variables_initializer())\n",
    "    \n",
    "    # Training cycle\n",
    "    for epoch in range(epochs):\n",
    "        # Loop over all batches\n",
    "        n_batches = 5\n",
    "        for batch_i in range(1, n_batches + 1):\n",
    "            for batch_features, batch_labels in helper.load_preprocess_training_batch(batch_i, batch_size):\n",
    "                train_neural_network(sess, optimizer, keep_probability, batch_features, batch_labels)\n",
    "            print('Epoch {:>2}, CIFAR-10 Batch {}:  '.format(epoch + 1, batch_i), end='')\n",
    "            print_stats(sess, batch_features, batch_labels, cost, accuracy)\n",
    "            \n",
    "    # Save Model\n",
    "    saver = tf.train.Saver()\n",
    "    save_path = saver.save(sess, save_model_path)"
   ]
  },
  {
   "cell_type": "markdown",
   "metadata": {
    "deletable": true,
    "editable": true
   },
   "source": [
    "# Checkpoint\n",
    "The model has been saved to disk.\n",
    "## Test Model\n",
    "Test your model against the test dataset.  This will be your final accuracy. You should have an accuracy greater than 50%. If you don't, keep tweaking the model architecture and parameters."
   ]
  },
  {
   "cell_type": "code",
   "execution_count": 71,
   "metadata": {
    "collapsed": false,
    "deletable": true,
    "editable": true
   },
   "outputs": [
    {
     "name": "stdout",
     "output_type": "stream",
     "text": [
      "Testing Accuracy: 0.67296974522293\n",
      "\n"
     ]
    },
    {
     "data": {
      "image/png": "[encoded data removed]",
      "text/plain": [
       "<matplotlib.figure.Figure at 0x7feae3f72f60>"
      ]
     },
     "metadata": {
      "image/png": {
       "height": 319,
       "width": 355
      }
     },
     "output_type": "display_data"
    }
   ],
   "source": [
    "\"\"\"\n",
    "DON'T MODIFY ANYTHING IN THIS CELL\n",
    "\"\"\"\n",
    "%matplotlib inline\n",
    "%config InlineBackend.figure_format = 'retina'\n",
    "\n",
    "import tensorflow as tf\n",
    "import pickle\n",
    "import helper\n",
    "import random\n",
    "\n",
    "# Set batch size if not already set\n",
    "try:\n",
    "    if batch_size:\n",
    "        pass\n",
    "except NameError:\n",
    "    batch_size = 64\n",
    "\n",
    "save_model_path = './image_classification'\n",
    "n_samples = 4\n",
    "top_n_predictions = 3\n",
    "\n",
    "def test_model():\n",
    "    \"\"\"\n",
    "    Test the saved model against the test dataset\n",
    "    \"\"\"\n",
    "\n",
    "    test_features, test_labels = pickle.load(open('preprocess_training.p', mode='rb'))\n",
    "    loaded_graph = tf.Graph()\n",
    "\n",
    "    with tf.Session(graph=loaded_graph) as sess:\n",
    "        # Load model\n",
    "        loader = tf.train.import_meta_graph(save_model_path + '.meta')\n",
    "        loader.restore(sess, save_model_path)\n",
    "\n",
    "        # Get Tensors from loaded model\n",
    "        loaded_x = loaded_graph.get_tensor_by_name('x:0')\n",
    "        loaded_y = loaded_graph.get_tensor_by_name('y:0')\n",
    "        loaded_keep_prob = loaded_graph.get_tensor_by_name('keep_prob:0')\n",
    "        loaded_logits = loaded_graph.get_tensor_by_name('logits:0')\n",
    "        loaded_acc = loaded_graph.get_tensor_by_name('accuracy:0')\n",
    "        \n",
    "        # Get accuracy in batches for memory limitations\n",
    "        test_batch_acc_total = 0\n",
    "        test_batch_count = 0\n",
    "        \n",
    "        for train_feature_batch, train_label_batch in helper.batch_features_labels(test_features, test_labels, batch_size):\n",
    "            test_batch_acc_total += sess.run(\n",
    "                loaded_acc,\n",
    "                feed_dict={loaded_x: train_feature_batch, loaded_y: train_label_batch, loaded_keep_prob: 1.0})\n",
    "            test_batch_count += 1\n",
    "\n",
    "        print('Testing Accuracy: {}\\n'.format(test_batch_acc_total/test_batch_count))\n",
    "\n",
    "        # Print Random Samples\n",
    "        random_test_features, random_test_labels = tuple(zip(*random.sample(list(zip(test_features, test_labels)), n_samples)))\n",
    "        random_test_predictions = sess.run(\n",
    "            tf.nn.top_k(tf.nn.softmax(loaded_logits), top_n_predictions),\n",
    "            feed_dict={loaded_x: random_test_features, loaded_y: random_test_labels, loaded_keep_prob: 1.0})\n",
    "        helper.display_image_predictions(random_test_features, random_test_labels, random_test_predictions)\n",
    "\n",
    "\n",
    "test_model()"
   ]
  },
  {
   "cell_type": "markdown",
   "metadata": {
    "deletable": true,
    "editable": true
   },
   "source": [
    "## Why 50-70% Accuracy?\n",
    "You might be wondering why you can't get an accuracy any higher. First things first, 50% isn't bad for a simple CNN.  Pure guessing would get you 10% accuracy. However, you might notice people are getting scores [well above 70%](http://rodrigob.github.io/are_we_there_yet/build/classification_datasets_results.html#43494641522d3130).  That's because we haven't taught you all there is to know about neural networks. We still need to cover a few more techniques.\n",
    "## Submitting This Project\n",
    "When submitting this project, make sure to run all the cells before saving the notebook.  Save the notebook file as \"dlnd_image_classification.ipynb\" and save it as a HTML file under \"File\" -> \"Download as\".  Include the \"helper.py\" and \"problem_unittests.py\" files in your submission."
   ]
  }
 ],
 "metadata": {
  "kernelspec": {
   "display_name": "Python 3",
   "language": "python",
   "name": "python3"
  },
  "language_info": {
   "codemirror_mode": {
    "name": "ipython",
    "version": 3
   },
   "file_extension": ".py",
   "mimetype": "text/x-python",
   "name": "python",
   "nbconvert_exporter": "python",
   "pygments_lexer": "ipython3",
   "version": "3.5.2"
  },
  "widgets": {
   "state": {},
   "version": "1.1.2"
  }
 },
 "nbformat": 4,
 "nbformat_minor": 0
}
